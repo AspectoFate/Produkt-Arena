{
 "cells": [
  {
   "cell_type": "code",
   "execution_count": 1,
   "id": "7e66649b",
   "metadata": {},
   "outputs": [],
   "source": [
    "import spacy"
   ]
  },
  {
   "cell_type": "code",
   "execution_count": 2,
   "id": "a7de8952",
   "metadata": {},
   "outputs": [],
   "source": [
    "nlp = spacy.load(\"en_core_web_sm\")"
   ]
  },
  {
   "cell_type": "code",
   "execution_count": 14,
   "id": "5eb61dd7",
   "metadata": {},
   "outputs": [],
   "source": [
    "text = (\"Anes Dzehverovic is a programmer who also studies physics and whishes to work at Google. \")"
   ]
  },
  {
   "cell_type": "code",
   "execution_count": 15,
   "id": "26bbf050",
   "metadata": {},
   "outputs": [
    {
     "data": {
      "text/plain": [
       "'Anes Dzehverovic is a programmer who also studies physics and whishes to work at Google. '"
      ]
     },
     "execution_count": 15,
     "metadata": {},
     "output_type": "execute_result"
    }
   ],
   "source": [
    "text"
   ]
  },
  {
   "cell_type": "code",
   "execution_count": 16,
   "id": "4243738b",
   "metadata": {},
   "outputs": [],
   "source": [
    "doc=nlp(text)"
   ]
  },
  {
   "cell_type": "code",
   "execution_count": 17,
   "id": "9e3e111a",
   "metadata": {},
   "outputs": [
    {
     "name": "stdout",
     "output_type": "stream",
     "text": [
      "Anes\n",
      "Dzehverovic\n",
      "is\n",
      "a\n",
      "programmer\n",
      "who\n",
      "also\n",
      "studies\n",
      "physics\n",
      "and\n",
      "whishes\n",
      "to\n",
      "work\n",
      "at\n",
      "Google\n",
      ".\n"
     ]
    }
   ],
   "source": [
    "for token in doc:\n",
    "    print(token)"
   ]
  },
  {
   "cell_type": "code",
   "execution_count": 19,
   "id": "ff289c32",
   "metadata": {},
   "outputs": [
    {
     "name": "stdout",
     "output_type": "stream",
     "text": [
      "programmer\n",
      "physics\n",
      "whishes\n"
     ]
    }
   ],
   "source": [
    "for token in doc:\n",
    "    if token.pos_==\"NOUN\":\n",
    "        print(token)"
   ]
  },
  {
   "cell_type": "code",
   "execution_count": 20,
   "id": "82a88efa",
   "metadata": {},
   "outputs": [
    {
     "name": "stdout",
     "output_type": "stream",
     "text": [
      "Anes Dzehverovic PERSON\n",
      "Google ORG\n"
     ]
    }
   ],
   "source": [
    "for entity in doc.ents:\n",
    "    print(entity.text, entity.label_)"
   ]
  },
  {
   "cell_type": "code",
   "execution_count": 21,
   "id": "339d8ffa",
   "metadata": {},
   "outputs": [
    {
     "name": "stdout",
     "output_type": "stream",
     "text": [
      " Volume in drive C has no label.\n",
      " Volume Serial Number is E8C5-C592\n",
      "\n",
      " Directory of C:\\Users\\anes0\\Desktop\n",
      "\n",
      "12/01/2022  11:22 AM    <DIR>          .\n",
      "12/01/2022  11:22 AM    <DIR>          ..\n",
      "12/01/2022  11:19 AM    <DIR>          .ipynb_checkpoints\n",
      "11/28/2022  07:42 AM           714,697 4188955.jpg\n",
      "11/28/2022  07:41 AM           364,254 4188955.webp\n",
      "11/28/2022  12:12 PM             2,227 Discord.lnk\n",
      "12/01/2022  05:36 AM               882 downloading.py\n",
      "12/01/2022  06:37 AM             6,988 Extracting Table from PDF.ipynb\n",
      "12/01/2022  06:03 AM           590,268 India Factsheet.pdf\n",
      "12/01/2022  05:55 AM                 0 intervju\n",
      "12/01/2022  11:16 AM             2,051 language processing.ipynb\n",
      "12/01/2022  11:22 AM             3,013 language_processing.ipynb\n",
      "11/28/2022  07:37 AM             2,390 Person 1 - Chrome.lnk\n",
      "11/30/2022  02:19 PM    <DIR>          slike za alena\n",
      "11/30/2022  06:19 PM             1,450 testing.py\n",
      "12/01/2022  06:33 AM            10,052 Untitled.ipynb\n",
      "11/30/2022  05:05 PM    <DIR>          __pycache__\n",
      "              12 File(s)      1,698,272 bytes\n",
      "               5 Dir(s)  156,855,668,736 bytes free\n"
     ]
    }
   ],
   "source": [
    "!dir"
   ]
  },
  {
   "cell_type": "code",
   "execution_count": null,
   "id": "a16bad80",
   "metadata": {},
   "outputs": [],
   "source": []
  }
 ],
 "metadata": {
  "kernelspec": {
   "display_name": "Python 3.11.0 64-bit",
   "language": "python",
   "name": "python3"
  },
  "language_info": {
   "codemirror_mode": {
    "name": "ipython",
    "version": 3
   },
   "file_extension": ".py",
   "mimetype": "text/x-python",
   "name": "python",
   "nbconvert_exporter": "python",
   "pygments_lexer": "ipython3",
   "version": "3.11.0"
  },
  "vscode": {
   "interpreter": {
    "hash": "fbe58ca63fe33f9eeae9e71d10368d2b4a57f2b1b395836210cc60d362c66949"
   }
  }
 },
 "nbformat": 4,
 "nbformat_minor": 5
}
