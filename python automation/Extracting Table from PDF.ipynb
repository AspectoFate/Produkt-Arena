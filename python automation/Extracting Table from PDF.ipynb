{
 "cells": [
  {
   "cell_type": "code",
   "execution_count": 6,
   "id": "cefc0366",
   "metadata": {},
   "outputs": [],
   "source": [
    "import camelot as cm\n",
    "import ctypes\n"
   ]
  },
  {
   "cell_type": "code",
   "execution_count": 3,
   "id": "f8baf04e",
   "metadata": {},
   "outputs": [
    {
     "data": {
      "text/plain": [
       "('stream', 'lattice')"
      ]
     },
     "execution_count": 3,
     "metadata": {},
     "output_type": "execute_result"
    }
   ],
   "source": [
    "\"stream\",\"lattice\""
   ]
  },
  {
   "cell_type": "code",
   "execution_count": 7,
   "id": "0556df54",
   "metadata": {},
   "outputs": [
    {
     "ename": "ModuleNotFoundError",
     "evalue": "No module named 'ghostscript'",
     "output_type": "error",
     "traceback": [
      "\u001b[1;31m---------------------------------------------------------------------------\u001b[0m",
      "\u001b[1;31mModuleNotFoundError\u001b[0m                       Traceback (most recent call last)",
      "Cell \u001b[1;32mIn[7], line 1\u001b[0m\n\u001b[1;32m----> 1\u001b[0m input_pdf \u001b[39m=\u001b[39m cm\u001b[39m.\u001b[39;49mread_pdf(\u001b[39m\"\u001b[39;49m\u001b[39mIndia Factsheet.pdf\u001b[39;49m\u001b[39m\"\u001b[39;49m,flavor\u001b[39m=\u001b[39;49m\u001b[39m'\u001b[39;49m\u001b[39mlattice\u001b[39;49m\u001b[39m'\u001b[39;49m,page\u001b[39m=\u001b[39;49m\u001b[39m'\u001b[39;49m\u001b[39m1,2\u001b[39;49m\u001b[39m'\u001b[39;49m)\n",
      "File \u001b[1;32mc:\\python\\Lib\\site-packages\\camelot\\io.py:113\u001b[0m, in \u001b[0;36mread_pdf\u001b[1;34m(filepath, pages, password, flavor, suppress_stdout, layout_kwargs, **kwargs)\u001b[0m\n\u001b[0;32m    111\u001b[0m p \u001b[39m=\u001b[39m PDFHandler(filepath, pages\u001b[39m=\u001b[39mpages, password\u001b[39m=\u001b[39mpassword)\n\u001b[0;32m    112\u001b[0m kwargs \u001b[39m=\u001b[39m remove_extra(kwargs, flavor\u001b[39m=\u001b[39mflavor)\n\u001b[1;32m--> 113\u001b[0m tables \u001b[39m=\u001b[39m p\u001b[39m.\u001b[39;49mparse(\n\u001b[0;32m    114\u001b[0m     flavor\u001b[39m=\u001b[39;49mflavor,\n\u001b[0;32m    115\u001b[0m     suppress_stdout\u001b[39m=\u001b[39;49msuppress_stdout,\n\u001b[0;32m    116\u001b[0m     layout_kwargs\u001b[39m=\u001b[39;49mlayout_kwargs,\n\u001b[0;32m    117\u001b[0m     \u001b[39m*\u001b[39;49m\u001b[39m*\u001b[39;49mkwargs\n\u001b[0;32m    118\u001b[0m )\n\u001b[0;32m    119\u001b[0m \u001b[39mreturn\u001b[39;00m tables\n",
      "File \u001b[1;32mc:\\python\\Lib\\site-packages\\camelot\\handlers.py:176\u001b[0m, in \u001b[0;36mPDFHandler.parse\u001b[1;34m(self, flavor, suppress_stdout, layout_kwargs, **kwargs)\u001b[0m\n\u001b[0;32m    174\u001b[0m     parser \u001b[39m=\u001b[39m Lattice(\u001b[39m*\u001b[39m\u001b[39m*\u001b[39mkwargs) \u001b[39mif\u001b[39;00m flavor \u001b[39m==\u001b[39m \u001b[39m\"\u001b[39m\u001b[39mlattice\u001b[39m\u001b[39m\"\u001b[39m \u001b[39melse\u001b[39;00m Stream(\u001b[39m*\u001b[39m\u001b[39m*\u001b[39mkwargs)\n\u001b[0;32m    175\u001b[0m     \u001b[39mfor\u001b[39;00m p \u001b[39min\u001b[39;00m pages:\n\u001b[1;32m--> 176\u001b[0m         t \u001b[39m=\u001b[39m parser\u001b[39m.\u001b[39;49mextract_tables(\n\u001b[0;32m    177\u001b[0m             p, suppress_stdout\u001b[39m=\u001b[39;49msuppress_stdout, layout_kwargs\u001b[39m=\u001b[39;49mlayout_kwargs\n\u001b[0;32m    178\u001b[0m         )\n\u001b[0;32m    179\u001b[0m         tables\u001b[39m.\u001b[39mextend(t)\n\u001b[0;32m    180\u001b[0m \u001b[39mreturn\u001b[39;00m TableList(\u001b[39msorted\u001b[39m(tables))\n",
      "File \u001b[1;32mc:\\python\\Lib\\site-packages\\camelot\\parsers\\lattice.py:421\u001b[0m, in \u001b[0;36mLattice.extract_tables\u001b[1;34m(self, filename, suppress_stdout, layout_kwargs)\u001b[0m\n\u001b[0;32m    416\u001b[0m         warnings\u001b[39m.\u001b[39mwarn(\n\u001b[0;32m    417\u001b[0m             \u001b[39m\"\u001b[39m\u001b[39mNo tables found on \u001b[39m\u001b[39m{}\u001b[39;00m\u001b[39m\"\u001b[39m\u001b[39m.\u001b[39mformat(os\u001b[39m.\u001b[39mpath\u001b[39m.\u001b[39mbasename(\u001b[39mself\u001b[39m\u001b[39m.\u001b[39mrootname))\n\u001b[0;32m    418\u001b[0m         )\n\u001b[0;32m    419\u001b[0m     \u001b[39mreturn\u001b[39;00m []\n\u001b[1;32m--> 421\u001b[0m \u001b[39mself\u001b[39;49m\u001b[39m.\u001b[39;49mbackend\u001b[39m.\u001b[39;49mconvert(\u001b[39mself\u001b[39;49m\u001b[39m.\u001b[39;49mfilename, \u001b[39mself\u001b[39;49m\u001b[39m.\u001b[39;49mimagename)\n\u001b[0;32m    423\u001b[0m \u001b[39mself\u001b[39m\u001b[39m.\u001b[39m_generate_table_bbox()\n\u001b[0;32m    425\u001b[0m _tables \u001b[39m=\u001b[39m []\n",
      "File \u001b[1;32mc:\\python\\Lib\\site-packages\\camelot\\backends\\ghostscript_backend.py:36\u001b[0m, in \u001b[0;36mGhostscriptBackend.convert\u001b[1;34m(self, pdf_path, png_path, resolution)\u001b[0m\n\u001b[0;32m     30\u001b[0m \u001b[39mif\u001b[39;00m \u001b[39mnot\u001b[39;00m \u001b[39mself\u001b[39m\u001b[39m.\u001b[39minstalled():\n\u001b[0;32m     31\u001b[0m     \u001b[39mraise\u001b[39;00m \u001b[39mOSError\u001b[39;00m(\n\u001b[0;32m     32\u001b[0m         \u001b[39m\"\u001b[39m\u001b[39mGhostscript is not installed. You can install it using the instructions\u001b[39m\u001b[39m\"\u001b[39m\n\u001b[0;32m     33\u001b[0m         \u001b[39m\"\u001b[39m\u001b[39m here: https://camelot-py.readthedocs.io/en/master/user/install-deps.html\u001b[39m\u001b[39m\"\u001b[39m\n\u001b[0;32m     34\u001b[0m     )\n\u001b[1;32m---> 36\u001b[0m \u001b[39mimport\u001b[39;00m \u001b[39mghostscript\u001b[39;00m\n\u001b[0;32m     38\u001b[0m gs_command \u001b[39m=\u001b[39m [\n\u001b[0;32m     39\u001b[0m     \u001b[39m\"\u001b[39m\u001b[39mgs\u001b[39m\u001b[39m\"\u001b[39m,\n\u001b[0;32m     40\u001b[0m     \u001b[39m\"\u001b[39m\u001b[39m-q\u001b[39m\u001b[39m\"\u001b[39m,\n\u001b[1;32m   (...)\u001b[0m\n\u001b[0;32m     45\u001b[0m     pdf_path,\n\u001b[0;32m     46\u001b[0m ]\n\u001b[0;32m     47\u001b[0m ghostscript\u001b[39m.\u001b[39mGhostscript(\u001b[39m*\u001b[39mgs_command)\n",
      "\u001b[1;31mModuleNotFoundError\u001b[0m: No module named 'ghostscript'"
     ]
    }
   ],
   "source": [
    "input_pdf = cm.read_pdf(\"India Factsheet.pdf\",flavor='lattice',page='1,2')"
   ]
  },
  {
   "cell_type": "code",
   "execution_count": null,
   "id": "fd49c110",
   "metadata": {},
   "outputs": [],
   "source": []
  }
 ],
 "metadata": {
  "kernelspec": {
   "display_name": "Python 3.11.0 64-bit",
   "language": "python",
   "name": "python3"
  },
  "language_info": {
   "codemirror_mode": {
    "name": "ipython",
    "version": 3
   },
   "file_extension": ".py",
   "mimetype": "text/x-python",
   "name": "python",
   "nbconvert_exporter": "python",
   "pygments_lexer": "ipython3",
   "version": "3.11.0"
  },
  "vscode": {
   "interpreter": {
    "hash": "fbe58ca63fe33f9eeae9e71d10368d2b4a57f2b1b395836210cc60d362c66949"
   }
  }
 },
 "nbformat": 4,
 "nbformat_minor": 5
}
